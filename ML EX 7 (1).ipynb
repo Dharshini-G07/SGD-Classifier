{
 "cells": [
  {
   "cell_type": "code",
   "execution_count": 2,
   "id": "e55e55e4-68f3-4cf0-aeb5-b2bde338f1a8",
   "metadata": {},
   "outputs": [
    {
     "name": "stdout",
     "output_type": "stream",
     "text": [
      "Name: Priyadharshini G\n",
      "Reg no : 212224230209\n"
     ]
    }
   ],
   "source": [
    "print(\"Name: Priyadharshini G\")\n",
    "print(\"Reg no : 212224230209\")"
   ]
  },
  {
   "cell_type": "code",
   "execution_count": 4,
   "id": "3fb94e26-bf04-4392-a08d-3b7eff0929a1",
   "metadata": {},
   "outputs": [
    {
     "name": "stdout",
     "output_type": "stream",
     "text": [
      "   sepal length (cm)  sepal width (cm)  petal length (cm)  petal width (cm)  \\\n",
      "0                5.1               3.5                1.4               0.2   \n",
      "1                4.9               3.0                1.4               0.2   \n",
      "2                4.7               3.2                1.3               0.2   \n",
      "3                4.6               3.1                1.5               0.2   \n",
      "4                5.0               3.6                1.4               0.2   \n",
      "\n",
      "   target  \n",
      "0       0  \n",
      "1       0  \n",
      "2       0  \n",
      "3       0  \n",
      "4       0  \n"
     ]
    }
   ],
   "source": [
    "import pandas as pd\n",
    "from sklearn.datasets import load_iris\n",
    "from sklearn.linear_model import SGDClassifier\n",
    "from sklearn.model_selection import train_test_split\n",
    "from sklearn.metrics import accuracy_score,confusion_matrix,classification_report\n",
    "iris=load_iris()\n",
    "df=pd.DataFrame(data=iris.data, columns=iris.feature_names)\n",
    "df['target']=iris.target\n",
    "print(df.head())"
   ]
  },
  {
   "cell_type": "code",
   "execution_count": 6,
   "id": "56ae6bff-abcf-4ec1-a767-0fd045d66e9a",
   "metadata": {},
   "outputs": [],
   "source": [
    "X=df.drop('target',axis=1)\n"
   ]
  },
  {
   "cell_type": "code",
   "execution_count": 8,
   "id": "0cf0ffc7-5090-4f83-9c7d-558a68a0370f",
   "metadata": {},
   "outputs": [
    {
     "name": "stdout",
     "output_type": "stream",
     "text": [
      "Accuracy: 1.000\n"
     ]
    }
   ],
   "source": [
    "y=df['target']\n",
    "X_train,X_test, y_train, y_test = train_test_split(X, y ,test_size=0.2, random_state=42)\n",
    "sgd_clf=SGDClassifier(max_iter=1000, tol=1e-3)\n",
    "sgd_clf.fit(X_train,y_train)\n",
    "y_pred=sgd_clf.predict(X_test)\n",
    "accuracy=accuracy_score(y_test,y_pred)\n",
    "print(f\"Accuracy: {accuracy:.3f}\")\n"
   ]
  },
  {
   "cell_type": "code",
   "execution_count": 12,
   "id": "5ef28542-c663-41bc-a351-7b0e87597c91",
   "metadata": {},
   "outputs": [
    {
     "name": "stdout",
     "output_type": "stream",
     "text": [
      "Confusion Matrix:\n",
      "[[10  0  0]\n",
      " [ 0  9  0]\n",
      " [ 0  0 11]]\n"
     ]
    }
   ],
   "source": [
    "cn=confusion_matrix(y_test,y_pred)\n",
    "print(\"Confusion Matrix:\")\n",
    "print(cn)"
   ]
  },
  {
   "cell_type": "code",
   "execution_count": 14,
   "id": "a9516df6-0cee-4fe4-8ca3-ddd01a9bac1b",
   "metadata": {},
   "outputs": [
    {
     "name": "stdout",
     "output_type": "stream",
     "text": [
      "              precision    recall  f1-score   support\n",
      "\n",
      "           0       1.00      1.00      1.00        10\n",
      "           1       1.00      1.00      1.00         9\n",
      "           2       1.00      1.00      1.00        11\n",
      "\n",
      "    accuracy                           1.00        30\n",
      "   macro avg       1.00      1.00      1.00        30\n",
      "weighted avg       1.00      1.00      1.00        30\n",
      "\n",
      "Name: Priyadharshini G\n",
      "Reg no : 212224230209\n"
     ]
    }
   ],
   "source": [
    "classification_report1=classification_report(y_test,y_pred)\n",
    "print(classification_report1)\n",
    "print(\"Name: Priyadharshini G\")\n",
    "print(\"Reg no : 212224230209\")"
   ]
  },
  {
   "cell_type": "code",
   "execution_count": null,
   "id": "4c94363e-90cc-446b-b496-86ce468d0597",
   "metadata": {},
   "outputs": [],
   "source": []
  }
 ],
 "metadata": {
  "kernelspec": {
   "display_name": "Python [conda env:base] *",
   "language": "python",
   "name": "conda-base-py"
  },
  "language_info": {
   "codemirror_mode": {
    "name": "ipython",
    "version": 3
   },
   "file_extension": ".py",
   "mimetype": "text/x-python",
   "name": "python",
   "nbconvert_exporter": "python",
   "pygments_lexer": "ipython3",
   "version": "3.12.7"
  }
 },
 "nbformat": 4,
 "nbformat_minor": 5
}
